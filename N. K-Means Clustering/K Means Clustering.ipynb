{
 "cells": [
  {
   "cell_type": "markdown",
   "id": "1d7eb60c",
   "metadata": {},
   "source": [
    "# K-Means Clustering"
   ]
  },
  {
   "cell_type": "markdown",
   "id": "b3ff23dc",
   "metadata": {},
   "source": [
    "K-Means Clustering is an Unsupervised Learning algorithm, which groups the unlabeled dataset into different clusters. Here K defines the number of pre-defined clusters that need to be created in the process, as if K=2, there will be two clusters, and for K=3, there will be three clusters, and so on."
   ]
  },
  {
   "cell_type": "markdown",
   "id": "b524b55d",
   "metadata": {},
   "source": [
    "\"It is an iterative algorithm that divides the unlabeled dataset into k different clusters in such a way that each dataset belongs only one group that has similar properties.\""
   ]
  },
  {
   "cell_type": "markdown",
   "id": "cb782371",
   "metadata": {},
   "source": [
    "The algorithm takes the unlabeled dataset as input, divides the dataset into k-number of clusters, and repeats the process until it does not find the best clusters. The value of k should be predetermined in this algorithm.\n",
    "The k-means clustering algorithm mainly performs two tasks:<br>\n",
    "\n",
    "1. Determines the best value for K center points or centroids by an iterative process.\n",
    "2. Assigns each data point to its closest k-center. Those data points which are near to the particular k-center, create a cluster.</br></br>\n",
    "Hence each cluster has datapoints with some commonalities, and it is away from other clusters.\n",
    "The below diagram explains the working of the K-means Clustering Algorithm:"
   ]
  },
  {
   "attachments": {
    "k-means-clustering-algorithm-in-machine-learning.png": {
     "image/png": "[encoded data removed]"
    }
   },
   "cell_type": "markdown",
   "id": "138705bf",
   "metadata": {},
   "source": [
    "![k-means-clustering-algorithm-in-machine-learning.png](attachment:k-means-clustering-algorithm-in-machine-learning.png)"
   ]
  },
  {
   "cell_type": "markdown",
   "id": "1ff9af4c",
   "metadata": {},
   "source": [
    "## Working:"
   ]
  },
  {
   "attachments": {
    "kmean1.PNG": {
     "image/png": "[encoded data removed]"
    }
   },
   "cell_type": "markdown",
   "id": "b0e36219",
   "metadata": {},
   "source": [
    "#### 1.Initialize:\n",
    "Choose K random data points from the data set to represent\n",
    "the initial centers of the K partitions\n",
    "#### 2.Calculate the group memberships:\n",
    "![kmean1.PNG](attachment:kmean1.PNG)"
   ]
  },
  {
   "attachments": {
    "k2.PNG": {
     "image/png": "[encoded data removed]"
    }
   },
   "cell_type": "markdown",
   "id": "24cdc6af",
   "metadata": {},
   "source": [
    "#### 3.Update the centroids:\n",
    "![k2.PNG](attachment:k2.PNG)\n",
    "\n",
    "#### 4.Repeat steps 2 and 3\n",
    "until converge to stable values"
   ]
  },
  {
   "cell_type": "markdown",
   "id": "7000f625",
   "metadata": {},
   "source": [
    "## Code"
   ]
  },
  {
   "cell_type": "markdown",
   "id": "902de92f",
   "metadata": {},
   "source": [
    "Dataset contains CGPA and IQ of around 200 students. Clustering is done on basis of these values"
   ]
  },
  {
   "cell_type": "code",
   "execution_count": 10,
   "id": "e581025a",
   "metadata": {},
   "outputs": [],
   "source": [
    "#imports\n",
    "import numpy as np\n",
    "import pandas as pd\n",
    "import matplotlib.pyplot as plt\n",
    "from sklearn.cluster import KMeans"
   ]
  },
  {
   "cell_type": "code",
   "execution_count": 11,
   "id": "d69b8c0c",
   "metadata": {},
   "outputs": [
    {
     "data": {
      "text/html": [
       "<div>\n",
       "<style scoped>\n",
       "    .dataframe tbody tr th:only-of-type {\n",
       "        vertical-align: middle;\n",
       "    }\n",
       "\n",
       "    .dataframe tbody tr th {\n",
       "        vertical-align: top;\n",
       "    }\n",
       "\n",
       "    .dataframe thead th {\n",
       "        text-align: right;\n",
       "    }\n",
       "</style>\n",
       "<table border=\"1\" class=\"dataframe\">\n",
       "  <thead>\n",
       "    <tr style=\"text-align: right;\">\n",
       "      <th></th>\n",
       "      <th>cgpa</th>\n",
       "      <th>iq</th>\n",
       "    </tr>\n",
       "  </thead>\n",
       "  <tbody>\n",
       "    <tr>\n",
       "      <th>0</th>\n",
       "      <td>5.13</td>\n",
       "      <td>88</td>\n",
       "    </tr>\n",
       "    <tr>\n",
       "      <th>1</th>\n",
       "      <td>5.90</td>\n",
       "      <td>113</td>\n",
       "    </tr>\n",
       "    <tr>\n",
       "      <th>2</th>\n",
       "      <td>8.36</td>\n",
       "      <td>93</td>\n",
       "    </tr>\n",
       "    <tr>\n",
       "      <th>3</th>\n",
       "      <td>8.27</td>\n",
       "      <td>97</td>\n",
       "    </tr>\n",
       "    <tr>\n",
       "      <th>4</th>\n",
       "      <td>5.45</td>\n",
       "      <td>110</td>\n",
       "    </tr>\n",
       "  </tbody>\n",
       "</table>\n",
       "</div>"
      ],
      "text/plain": [
       "   cgpa   iq\n",
       "0  5.13   88\n",
       "1  5.90  113\n",
       "2  8.36   93\n",
       "3  8.27   97\n",
       "4  5.45  110"
      ]
     },
     "execution_count": 11,
     "metadata": {},
     "output_type": "execute_result"
    }
   ],
   "source": [
    "#reading dataset\n",
    "df = pd.read_csv(\"dataset/student_clustering.csv\")\n",
    "df.head()"
   ]
  },
  {
   "cell_type": "code",
   "execution_count": 12,
   "id": "b38b5a22",
   "metadata": {},
   "outputs": [
    {
     "data": {
      "text/plain": [
       "<matplotlib.collections.PathCollection at 0x2affe5b8d30>"
      ]
     },
     "execution_count": 12,
     "metadata": {},
     "output_type": "execute_result"
    },
    {
     "data": {
      "image/png": "[encoded data removed]",
      "text/plain": [
       "<Figure size 432x288 with 1 Axes>"
      ]
     },
     "metadata": {
      "needs_background": "light"
     },
     "output_type": "display_data"
    }
   ],
   "source": [
    "#visualyzing dataset\n",
    "plt.scatter(df['cgpa'],df['iq'])"
   ]
  },
  {
   "cell_type": "code",
   "execution_count": 14,
   "id": "91db41de",
   "metadata": {},
   "outputs": [
    {
     "data": {
      "text/plain": [
       "array([3, 1, 0, 0, 1, 1, 0, 2, 1, 0, 3, 1, 0, 3, 1, 0, 1, 0, 1, 1, 0, 3,\n",
       "       0, 3, 3, 0, 3, 2, 0, 1, 2, 1, 2, 1, 0, 0, 2, 1, 3, 1, 3, 0, 0, 3,\n",
       "       2, 2, 0, 1, 2, 1, 3, 3, 2, 0, 2, 1, 1, 2, 1, 2, 1, 0, 0, 2, 3, 2,\n",
       "       0, 3, 1, 0, 1, 2, 0, 3, 1, 2, 1, 2, 3, 0, 0, 2, 1, 3, 2, 3, 2, 1,\n",
       "       2, 1, 2, 2, 0, 3, 0, 0, 2, 0, 3, 2, 1, 3, 3, 2, 3, 3, 0, 3, 2, 2,\n",
       "       0, 2, 1, 1, 0, 2, 0, 1, 2, 3, 3, 1, 0, 2, 0, 3, 0, 1, 3, 0, 0, 1,\n",
       "       3, 3, 1, 2, 1, 3, 0, 0, 0, 3, 1, 3, 3, 2, 3, 2, 1, 3, 2, 3, 2, 2,\n",
       "       3, 0, 1, 2, 1, 0, 3, 2, 1, 0, 2, 3, 1, 3, 3, 2, 2, 1, 2, 3, 3, 0,\n",
       "       2, 1, 3, 2, 2, 1, 1, 1, 0, 3, 0, 0, 2, 1, 0, 0, 3, 3, 0, 3, 2, 1,\n",
       "       1, 2])"
      ]
     },
     "execution_count": 14,
     "metadata": {},
     "output_type": "execute_result"
    }
   ],
   "source": [
    "#giving value of k as 4\n",
    "X = df.iloc[:,:].values\n",
    "km = KMeans(n_clusters=4)\n",
    "y_means = km.fit_predict(X)\n",
    "y_means"
   ]
  },
  {
   "cell_type": "code",
   "execution_count": 16,
   "id": "c7ea4675",
   "metadata": {},
   "outputs": [
    {
     "name": "stdout",
     "output_type": "stream",
     "text": [
      "[[  8.36  93.  ]\n",
      " [  8.27  97.  ]\n",
      " [  8.41  98.  ]\n",
      " [  8.09  94.  ]\n",
      " [  8.16  97.  ]\n",
      " [  8.31  95.  ]\n",
      " [  7.87  91.  ]\n",
      " [  7.47  98.  ]\n",
      " [  7.78  92.  ]\n",
      " [  7.93  98.  ]\n",
      " [  8.04  94.  ]\n",
      " [  7.77  96.  ]\n",
      " [  8.    96.  ]\n",
      " [  8.43  96.  ]\n",
      " [  8.02  93.  ]\n",
      " [  8.14  94.  ]\n",
      " [  8.12  96.  ]\n",
      " [  8.34  96.  ]\n",
      " [  8.65  95.  ]\n",
      " [  8.53  93.  ]\n",
      " [  8.29  95.  ]\n",
      " [  7.93  94.  ]\n",
      " [  8.72  92.  ]\n",
      " [  8.14  91.  ]\n",
      " [  8.2   92.  ]\n",
      " [  8.67  95.  ]\n",
      " [  8.18  94.  ]\n",
      " [  8.61  95.  ]\n",
      " [  7.99  92.  ]\n",
      " [  8.08  94.  ]\n",
      " [  8.26  91.  ]\n",
      " [  8.25  95.  ]\n",
      " [  8.4   93.  ]\n",
      " [  7.84  97.  ]\n",
      " [  8.08  98.  ]\n",
      " [  8.25  96.  ]\n",
      " [  8.3   93.  ]\n",
      " [  7.9  100.  ]\n",
      " [  7.97  96.  ]\n",
      " [  8.21  94.  ]\n",
      " [  8.23  95.  ]\n",
      " [  8.35  93.  ]\n",
      " [  8.33  92.  ]\n",
      " [  8.46  98.  ]\n",
      " [  7.89  96.  ]\n",
      " [  7.91  93.  ]\n",
      " [  8.23  91.  ]\n",
      " [  8.4   93.  ]\n",
      " [  8.44  94.  ]\n",
      " [  8.79  96.  ]]\n"
     ]
    }
   ],
   "source": [
    "#getting all values of cluster 0\n",
    "print(X[y_means == 0])"
   ]
  },
  {
   "cell_type": "code",
   "execution_count": 17,
   "id": "3a38592e",
   "metadata": {},
   "outputs": [
    {
     "name": "stdout",
     "output_type": "stream",
     "text": [
      "First Value: [8.36 8.27 8.41 8.09 8.16 8.31 7.87 7.47 7.78 7.93 8.04 7.77 8.   8.43\n",
      " 8.02 8.14 8.12 8.34 8.65 8.53 8.29 7.93 8.72 8.14 8.2  8.67 8.18 8.61\n",
      " 7.99 8.08 8.26 8.25 8.4  7.84 8.08 8.25 8.3  7.9  7.97 8.21 8.23 8.35\n",
      " 8.33 8.46 7.89 7.91 8.23 8.4  8.44 8.79]\n",
      "Second Value: [ 93.  97.  98.  94.  97.  95.  91.  98.  92.  98.  94.  96.  96.  96.\n",
      "  93.  94.  96.  96.  95.  93.  95.  94.  92.  91.  92.  95.  94.  95.\n",
      "  92.  94.  91.  95.  93.  97.  98.  96.  93. 100.  96.  94.  95.  93.\n",
      "  92.  98.  96.  93.  91.  93.  94.  96.]\n"
     ]
    }
   ],
   "source": [
    "# getting first values of cluster 1 and second value of cluster 1\n",
    "print(\"First Value:\", X[y_means == 0,0])\n",
    "print(\"Second Value:\", X[y_means == 0,1])"
   ]
  },
  {
   "cell_type": "code",
   "execution_count": 18,
   "id": "a3bff690",
   "metadata": {},
   "outputs": [
    {
     "data": {
      "text/plain": [
       "<matplotlib.collections.PathCollection at 0x2affea773a0>"
      ]
     },
     "execution_count": 18,
     "metadata": {},
     "output_type": "execute_result"
    },
    {
     "data": {
      "image/png": "[encoded data removed]",
      "text/plain": [
       "<Figure size 432x288 with 1 Axes>"
      ]
     },
     "metadata": {
      "needs_background": "light"
     },
     "output_type": "display_data"
    }
   ],
   "source": [
    "# visualyzing results\n",
    "plt.scatter(X[y_means == 0,0],X[y_means == 0,1],color='blue')\n",
    "plt.scatter(X[y_means == 1,0],X[y_means == 1,1],color='red')\n",
    "plt.scatter(X[y_means == 2,0],X[y_means == 2,1],color='green')\n",
    "plt.scatter(X[y_means == 3,0],X[y_means == 3,1],color='yellow')"
   ]
  },
  {
   "cell_type": "code",
   "execution_count": null,
   "id": "b9573e1d",
   "metadata": {},
   "outputs": [],
   "source": []
  }
 ],
 "metadata": {
  "kernelspec": {
   "display_name": "Python 3 (ipykernel)",
   "language": "python",
   "name": "python3"
  },
  "language_info": {
   "codemirror_mode": {
    "name": "ipython",
    "version": 3
   },
   "file_extension": ".py",
   "mimetype": "text/x-python",
   "name": "python",
   "nbconvert_exporter": "python",
   "pygments_lexer": "ipython3",
   "version": "3.9.7"
  }
 },
 "nbformat": 4,
 "nbformat_minor": 5
}
